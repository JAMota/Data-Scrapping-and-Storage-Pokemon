{
 "cells": [
  {
   "cell_type": "code",
   "execution_count": 1,
   "id": "e7d52749-85be-4842-9e20-3e38ecfaee1d",
   "metadata": {},
   "outputs": [],
   "source": [
    "import requests\n",
    "from bs4 import BeautifulSoup"
   ]
  },
  {
   "cell_type": "code",
   "execution_count": null,
   "id": "72a253b3-3c87-4f67-b742-695343c03423",
   "metadata": {},
   "outputs": [],
   "source": [
    "\n",
    "# Replace with the actual URL of the page containing the usage statistics\n",
    "url = \"https://www.smogon.com/stats/2014-11/ou-0.txt\"\n",
    "response = requests.get(url)\n",
    "soup = BeautifulSoup(response.text, 'html.parser')\n",
    "\n",
    "# Inspect the HTML structure to identify the tags containing the usage statistics\n",
    "# For example, let's say the usage percentages are in a table with class 'usage-table'\n",
    "usage_table = soup.find('table', {'class': 'usage-table'})\n",
    "\n",
    "# Now you can iterate over the rows and cells of the table to extract the data\n",
    "for row in usage_table.find_all('tr'):\n",
    "    columns = row.find_all('td')\n",
    "    # Do something with the data in each column\n"
   ]
  }
 ],
 "metadata": {
  "kernelspec": {
   "display_name": "Python 3 (ipykernel)",
   "language": "python",
   "name": "python3"
  },
  "language_info": {
   "codemirror_mode": {
    "name": "ipython",
    "version": 3
   },
   "file_extension": ".py",
   "mimetype": "text/x-python",
   "name": "python",
   "nbconvert_exporter": "python",
   "pygments_lexer": "ipython3",
   "version": "3.11.7"
  }
 },
 "nbformat": 4,
 "nbformat_minor": 5
}
